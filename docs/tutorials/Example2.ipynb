{
 "cells": [
  {
   "cell_type": "markdown",
   "id": "172c8c11-4ff4-4886-84ff-b35f26fbe6c5",
   "metadata": {},
   "source": [
    "# Combining models"
   ]
  },
  {
   "cell_type": "code",
   "execution_count": 1,
   "id": "238f0c14-14c3-48a0-b29e-930be535126d",
   "metadata": {},
   "outputs": [],
   "source": [
    "import numpy as np\n",
    "from astropy.io import fits\n",
    "import matplotlib.pyplot as plt"
   ]
  },
  {
   "cell_type": "code",
   "execution_count": 49,
   "id": "64df302f-0492-4dc6-9982-c6acebd504db",
   "metadata": {},
   "outputs": [],
   "source": [
    "x = np.arange(-5, 5, 0.01)\n",
    "y = x * 2.3459 + 1.435 + np.random.normal(0, 0.3, size=len(x))\n",
    "ye = np.ones(len(x)) * 0.3\n",
    "\n",
    "y += 10*np.sin(x) + 10*np.cos(x)"
   ]
  },
  {
   "cell_type": "code",
   "execution_count": 50,
   "id": "78067ca8-ee46-46c7-ba18-6234af52ed73",
   "metadata": {},
   "outputs": [
    {
     "data": {
      "text/plain": [
       "<ErrorbarContainer object of 3 artists>"
      ]
     },
     "execution_count": 50,
     "metadata": {},
     "output_type": "execute_result"
    },
    {
     "data": {
      "image/png": "[encoded data removed]",
      "text/plain": [
       "<Figure size 640x480 with 1 Axes>"
      ]
     },
     "metadata": {},
     "output_type": "display_data"
    }
   ],
   "source": [
    "plt.errorbar(x, y, ye, ls='', c='k')"
   ]
  },
  {
   "cell_type": "code",
   "execution_count": 51,
   "id": "dcf6023e-f1a0-4bee-a08a-1ff5859f740f",
   "metadata": {},
   "outputs": [],
   "source": [
    "from lamatrix import Polynomial, Step, Constant"
   ]
  },
  {
   "cell_type": "code",
   "execution_count": 57,
   "id": "d106548f-9def-4025-96aa-9f8a6047449c",
   "metadata": {},
   "outputs": [],
   "source": [
    "model = Polynomial('x', order=1) + Sinusoid('x') + Constant()"
   ]
  },
  {
   "cell_type": "code",
   "execution_count": 65,
   "id": "3224e737-0494-4f74-ab5c-f1a6d2f3aee2",
   "metadata": {},
   "outputs": [
    {
     "name": "stdout",
     "output_type": "stream",
     "text": [
      "\\[f(\\mathbf{x}) = w_{0} \\mathbf{x}^{1} + w_{1} \\sin(\\mathbf{x}) + w_{2} \\cos(\\mathbf{x}) + w_{3} \\]\n"
     ]
    }
   ],
   "source": [
    "print(model.equation)"
   ]
  },
  {
   "cell_type": "code",
   "execution_count": 66,
   "id": "a516122f-5c79-4993-89c9-9717434ad458",
   "metadata": {},
   "outputs": [],
   "source": [
    "model.fit(x=x, data=y, errors=ye)"
   ]
  },
  {
   "cell_type": "code",
   "execution_count": 67,
   "id": "4c1850ba-4348-450c-8ffd-19d32ba8bf17",
   "metadata": {},
   "outputs": [
    {
     "data": {
      "text/plain": [
       "DistributionContainer\n",
       "\t[(2.3497951135668362, 0.0033742918992579743), (9.99272032732902, 0.013415420328184536), (10.002654529936626, 0.014367095236277903), (1.442070438331785, 0.009878894336436291)]"
      ]
     },
     "execution_count": 67,
     "metadata": {},
     "output_type": "execute_result"
    }
   ],
   "source": [
    "model.posteriors"
   ]
  },
  {
   "cell_type": "code",
   "execution_count": null,
   "id": "4e4453d9-e349-4a6e-b57b-ae4e23fe5d37",
   "metadata": {},
   "outputs": [],
   "source": []
  },
  {
   "cell_type": "code",
   "execution_count": null,
   "id": "1f4e4ffa-5746-43ac-9c69-4adf1435a5b2",
   "metadata": {},
   "outputs": [],
   "source": []
  },
  {
   "cell_type": "code",
   "execution_count": null,
   "id": "2b4c2f53-1193-4473-9ee9-3869ba17fc4c",
   "metadata": {},
   "outputs": [],
   "source": []
  }
 ],
 "metadata": {
  "kernelspec": {
   "display_name": "Python 3 (ipykernel)",
   "language": "python",
   "name": "python3"
  },
  "language_info": {
   "codemirror_mode": {
    "name": "ipython",
    "version": 3
   },
   "file_extension": ".py",
   "mimetype": "text/x-python",
   "name": "python",
   "nbconvert_exporter": "python",
   "pygments_lexer": "ipython3",
   "version": "3.9.13"
  }
 },
 "nbformat": 4,
 "nbformat_minor": 5
}
