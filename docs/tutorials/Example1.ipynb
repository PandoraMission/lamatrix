{
 "cells": [
  {
   "cell_type": "markdown",
   "id": "9ff541fc-9f04-4d11-a6d9-ce34de342377",
   "metadata": {},
   "source": [
    "# Introduction to `lamatrix`"
   ]
  },
  {
   "cell_type": "markdown",
   "id": "6ecc5fe4-c734-4fc3-a375-01a86e3c5872",
   "metadata": {},
   "source": [
    "`lamatrix` is a tool to help you fit linear models to data. This tool is designed to make it easier to build models and fit them. \n",
    "\n",
    "These are the basic principles behind `lamatrix`. \n",
    "\n",
    "Firstly, let's create some data."
   ]
  },
  {
   "cell_type": "code",
   "execution_count": 1,
   "id": "1998681d-dc6b-41df-9072-cf6286e7a1f6",
   "metadata": {},
   "outputs": [],
   "source": [
    "import numpy as np\n",
    "from astropy.io import fits\n",
    "import matplotlib.pyplot as plt"
   ]
  },
  {
   "cell_type": "code",
   "execution_count": 2,
   "id": "85427fad-2cdc-4c4b-a3ba-e638ff542060",
   "metadata": {},
   "outputs": [],
   "source": [
    "x = np.arange(-1, 1, 0.01)\n",
    "y = x * 2.3459 + 1.435 + np.random.normal(0, 0.3, size=len(x))\n",
    "ye = np.ones(len(x)) * 0.3"
   ]
  },
  {
   "cell_type": "code",
   "execution_count": 3,
   "id": "a3653ae6-79c2-475b-a192-9478fcd2373d",
   "metadata": {},
   "outputs": [
    {
     "data": {
      "text/plain": [
       "<ErrorbarContainer object of 3 artists>"
      ]
     },
     "execution_count": 3,
     "metadata": {},
     "output_type": "execute_result"
    },
    {
     "data": {
      "image/png": "[encoded data removed]",
      "text/plain": [
       "<Figure size 640x480 with 1 Axes>"
      ]
     },
     "metadata": {},
     "output_type": "display_data"
    }
   ],
   "source": [
    "plt.errorbar(x, y, ye, ls='', c='k')"
   ]
  },
  {
   "cell_type": "markdown",
   "id": "1d98dfab-fbb7-4157-b7be-6e04c43833e3",
   "metadata": {},
   "source": [
    "I have generated some synthetic data with the relation \n",
    "\n",
    "$y = mx + c$\n",
    "\n",
    "where I have fixed $m$ and $c$. This is a very simple model, where I know the answer for the two variables I would like to fit. We can fit this with `lamatrix`.\n",
    "\n",
    "Our first question is what model is reasonable to fit this data. `lamatrix` has the following model options\n",
    "\n",
    "* constant\n",
    "* polynomial\n",
    "* step\n",
    "* sinusoid\n",
    "* Gaussian\n",
    "* spline\n",
    "\n",
    "From this list, we know that our data is drawn from a polynomial. "
   ]
  },
  {
   "cell_type": "markdown",
   "id": "4cba0696-bfe9-41be-b901-a796aacd18f1",
   "metadata": {},
   "source": [
    "## `Model` Class\n",
    "\n",
    "`lamatrix` provides a `Model` class to work with. `Model`s are classes that are (usually) initialized with the name(s) of any variables that the model is a function of. These names are strings. `Model`s may have additional keyword arguments that are required on initialization. `Model`s have the following class methods that you will usually interact with\n",
    "\n",
    "* `design_matrix`: The `design_matrix` method will return the design matrix that describes the model for all the input variables.\n",
    "* `fit`: The `fit` method takes in data and optionally errors to fit the functional form of the model to data\n",
    "* `evaluate` The `evaluate` method will return the best fit of the model to the data\n",
    "\n",
    "Let's look at an example"
   ]
  },
  {
   "cell_type": "code",
   "execution_count": 4,
   "id": "b5377e92-fa80-4bf0-808e-0a9f7aa99111",
   "metadata": {},
   "outputs": [],
   "source": [
    "from lamatrix import Polynomial"
   ]
  },
  {
   "cell_type": "markdown",
   "id": "278c17ae-c7a6-42a0-a439-e52d954d2417",
   "metadata": {},
   "source": [
    "The `Polynomial` class is a type of `Model` in `lamatrix`. We will initialize it with the name of the variable of the polynomial, and the order of the polynomial. Let's make a model using this class"
   ]
  },
  {
   "cell_type": "code",
   "execution_count": 5,
   "id": "eec9bfe8-d474-4230-aa8c-31b89762d306",
   "metadata": {},
   "outputs": [
    {
     "data": {
      "text/plain": [
       "Polynomial(x)[n, 1]"
      ]
     },
     "execution_count": 5,
     "metadata": {},
     "output_type": "execute_result"
    }
   ],
   "source": [
    "Polynomial('x', order=1)"
   ]
  },
  {
   "cell_type": "markdown",
   "id": "f5e65ddf-182d-481a-9596-3dd214c8d4a8",
   "metadata": {},
   "source": [
    "`p` is an `n` by `1` polynomial model. Here `n` indicates the number of points in the variable (`x`) and `1` indicates how many vectors are in the design matrix. If we increase the order, we will see this number increase"
   ]
  },
  {
   "cell_type": "code",
   "execution_count": 6,
   "id": "03de4547-51be-4b0a-ab88-06d29c911219",
   "metadata": {},
   "outputs": [
    {
     "data": {
      "text/plain": [
       "Polynomial(x)[n, 4]"
      ]
     },
     "execution_count": 6,
     "metadata": {},
     "output_type": "execute_result"
    }
   ],
   "source": [
    "Polynomial('x', order=4)"
   ]
  },
  {
   "cell_type": "markdown",
   "id": "64bbdb0a-44bc-4334-8272-c35dbc5c5a19",
   "metadata": {},
   "source": [
    "We can check the equation of our model object using the `equation` property"
   ]
  },
  {
   "cell_type": "code",
   "execution_count": 7,
   "id": "9aefefa0-01aa-46b2-9f8e-0f9cd6c6e76b",
   "metadata": {},
   "outputs": [
    {
     "name": "stdout",
     "output_type": "stream",
     "text": [
      "\\[f(\\mathbf{x}) = w_{0} \\mathbf{x}^{1}\\]\n"
     ]
    }
   ],
   "source": [
    "print(Polynomial('x', order=1).equation)"
   ]
  },
  {
   "cell_type": "markdown",
   "id": "1219af15-b049-4533-9718-4f85125e9245",
   "metadata": {},
   "source": [
    "This latex equation shows the model. Let's display the latex here:\n",
    "$$\n",
    "f(\\mathbf{x}) = w_{0} \\mathbf{x}^{1}\n",
    "$$\n",
    "\n",
    "This is a simple model of some unknown weight $w_0$ multiplied by $x$. \n",
    "\n",
    "To make this model fit our data we will need to include a constant term."
   ]
  },
  {
   "cell_type": "code",
   "execution_count": 8,
   "id": "cb1914bb-f909-41db-9892-b768b7e0a152",
   "metadata": {},
   "outputs": [],
   "source": [
    "from lamatrix import Constant"
   ]
  },
  {
   "cell_type": "code",
   "execution_count": 9,
   "id": "6bebd5a7-0869-4031-a6ff-afba6e04738e",
   "metadata": {},
   "outputs": [
    {
     "data": {
      "text/plain": [
       "Constant()[n, 1]"
      ]
     },
     "execution_count": 9,
     "metadata": {},
     "output_type": "execute_result"
    }
   ],
   "source": [
    "Constant()"
   ]
  },
  {
   "cell_type": "markdown",
   "id": "2d4270d1-7508-4681-bbc2-706df00fa0a1",
   "metadata": {},
   "source": [
    "This `Model` does not require any input, there is no variable. If we print the equation we see it contains only an unknown weight"
   ]
  },
  {
   "cell_type": "code",
   "execution_count": 10,
   "id": "d00a2270-c407-4d1a-a511-89a5f64b9127",
   "metadata": {},
   "outputs": [
    {
     "name": "stdout",
     "output_type": "stream",
     "text": [
      "\\[f() = w_{0} \\]\n"
     ]
    }
   ],
   "source": [
    "print(Constant().equation)"
   ]
  },
  {
   "cell_type": "markdown",
   "id": "1ea51358-1f80-4e88-ad42-cf7ad34135e3",
   "metadata": {},
   "source": [
    "Let's combine these `Model`s."
   ]
  },
  {
   "cell_type": "code",
   "execution_count": 11,
   "id": "dadfd9ce-ad04-4f92-8b01-38be332b19b9",
   "metadata": {},
   "outputs": [],
   "source": [
    "model = Polynomial('x', order=1) + Constant()"
   ]
  },
  {
   "cell_type": "code",
   "execution_count": 12,
   "id": "f54f1166-8177-4ba5-820a-9af752389f2e",
   "metadata": {},
   "outputs": [
    {
     "data": {
      "text/plain": [
       "JointModel\n",
       "\tPolynomial(x)[n, 1]\n",
       "\tConstant()[n, 1]"
      ]
     },
     "execution_count": 12,
     "metadata": {},
     "output_type": "execute_result"
    }
   ],
   "source": [
    "model"
   ]
  },
  {
   "cell_type": "markdown",
   "id": "b5d8e08d-b0c3-4c4b-a1bd-141c286ef7c5",
   "metadata": {},
   "source": [
    "Now we have combined the model we have a `JointModel`. Let's look at the equation now"
   ]
  },
  {
   "cell_type": "code",
   "execution_count": 13,
   "id": "5a4720db-a0b8-47e3-82d4-db9e51dcb8d5",
   "metadata": {},
   "outputs": [
    {
     "name": "stdout",
     "output_type": "stream",
     "text": [
      "\\[f(\\mathbf{x}) = w_{0} \\mathbf{x}^{1} + w_{1} \\]\n"
     ]
    }
   ],
   "source": [
    "print(model.equation)"
   ]
  },
  {
   "cell_type": "markdown",
   "id": "3673ccdd-8457-4739-9199-adb1da14aba0",
   "metadata": {},
   "source": [
    "In latex we have\n",
    "$$\n",
    "f(\\mathbf{x}) = w_{0} \\mathbf{x}^{1} + w_{1}\n",
    "$$\n",
    "\n",
    "This is now our first order polynomial, including the offset term. We have two unknown weights: $w_0$ and $w_1$ representing the slope and intercept of our model."
   ]
  },
  {
   "cell_type": "markdown",
   "id": "578b2355-1231-468b-89fb-c138b7cf9c4d",
   "metadata": {},
   "source": [
    "Our model contains a design matrix, which is the matrix representation of the equation above. When dotted with a vector of weights ($\\mathbf{w}$) this gives us a realization of our model. We can access the design matrix inside the `Model` object. The `design_matrix` method will return the design matrix. You must input examples of all variables where you want the design matrix to be evaluated. In this case, that is `x`.\n",
    "\n",
    "This can be any `x` that could be generated. Here I've generated an short example `x` vector."
   ]
  },
  {
   "cell_type": "code",
   "execution_count": 14,
   "id": "34c8958c-c215-42ba-87e0-a45ace7eaf5d",
   "metadata": {},
   "outputs": [
    {
     "data": {
      "text/plain": [
       "array([[-1.  ,  1.  ],\n",
       "       [-0.75,  1.  ],\n",
       "       [-0.5 ,  1.  ],\n",
       "       [-0.25,  1.  ],\n",
       "       [ 0.  ,  1.  ],\n",
       "       [ 0.25,  1.  ],\n",
       "       [ 0.5 ,  1.  ],\n",
       "       [ 0.75,  1.  ]])"
      ]
     },
     "execution_count": 14,
     "metadata": {},
     "output_type": "execute_result"
    }
   ],
   "source": [
    "x_example = np.arange(-1, 1, 0.25)\n",
    "model.design_matrix(x=x_example)"
   ]
  },
  {
   "cell_type": "markdown",
   "id": "e685a230-f2f8-4766-9f5c-1a2d737c8a80",
   "metadata": {},
   "source": [
    "This design matrix represents `x` and a constant. "
   ]
  },
  {
   "cell_type": "markdown",
   "id": "9799b55e-38a0-4c62-bd8d-176624eee839",
   "metadata": {},
   "source": [
    "Now we have the model, let's fit it to the data. We will input the variables (`x`) and the data we want to fit."
   ]
  },
  {
   "cell_type": "code",
   "execution_count": 15,
   "id": "bab19e73-1912-42b1-a694-95e13e452179",
   "metadata": {},
   "outputs": [],
   "source": [
    "model.fit(x=x, data=y)"
   ]
  },
  {
   "cell_type": "markdown",
   "id": "559b490c-644c-46f5-a1b3-4acbc1505ba2",
   "metadata": {},
   "source": [
    "We can plot the model over the data to see the fit"
   ]
  },
  {
   "cell_type": "code",
   "execution_count": 16,
   "id": "635592e5-04f7-4ec1-8430-20e8e20e2868",
   "metadata": {},
   "outputs": [
    {
     "data": {
      "text/plain": [
       "[<matplotlib.lines.Line2D at 0x11c251be0>]"
      ]
     },
     "execution_count": 16,
     "metadata": {},
     "output_type": "execute_result"
    },
    {
     "data": {
      "image/png": "[encoded data removed]",
      "text/plain": [
       "<Figure size 640x480 with 1 Axes>"
      ]
     },
     "metadata": {},
     "output_type": "display_data"
    }
   ],
   "source": [
    "plt.errorbar(x, y, ye, ls='', c='k')\n",
    "plt.plot(x, model.evaluate(x=x), c='r')"
   ]
  },
  {
   "cell_type": "markdown",
   "id": "f32954cb-f7b4-4ee0-a523-f9ff57b897b1",
   "metadata": {},
   "source": [
    "This is a good fit. To see the results of the fit we must first introduce a new class: `Distribution`s."
   ]
  },
  {
   "cell_type": "markdown",
   "id": "1c8471f8-50a5-411c-b32b-995a169721aa",
   "metadata": {},
   "source": [
    "There are two occasions inside `lamatrix` where we require some concept of a distribution.\n",
    "\n",
    "1. The **prior** distribution: this holds our prior belief of the values of best fitting weights. By default, all priors are infintely wide Gaussians (i.e. we have no prior understanding).\n",
    "2. The **posterior** distribution: this holds the best fitting values after we have fit our model to data, informed by the prior.\n",
    "\n",
    "Both of these are Gaussian distributions in `lamatrix`. We use the following Python objects to hold these distributions.\n",
    "\n",
    "## `Distribution`\n",
    "\n",
    "In `lamatrix` all distributions are by definition Gaussian. These are specified by two parameters: the **mean** and the **standard deviation**. These are specified as `Tuple` objects with `(mean, standard deviation)`, e.g.\n",
    "```\n",
    "(0, 1)\n",
    "```\n",
    "\n",
    "Would indicate a Gaussian with mean 0 and standard deviation 1.\n",
    "\n",
    "Distributions have special properties compared with regular tuples:\n",
    "\n",
    "* `mean` and `std` properties return the mean and standard deviation as floats respectively\n",
    "* freezing/thawing: In `lamatrix` you may want to \"freeze\" a certain variable to its mean value, i.e. make the standard deviation 0. `Distribution` classes have the `freeze` and `thaw` methods to enable this.\n",
    "* you can draw a sample from the distribution using the `sample` method\n",
    "\n",
    "## `DistributionContainer`\n",
    "\n",
    "One `Tuple` `Distribution` object is valid for each weight we fit in the model. We must hold many weights to account for all of the components in the model. These are held in a `DistributionContainer`. This is a special case of a `List` which has the following methods\n",
    "\n",
    "* `mean` and `std` properties return the mean and standard deviation as `numpy.NDArray`'s respectively\n",
    "* `freeze` and `thaw` methods as above\n",
    "* `sample` method as above"
   ]
  },
  {
   "cell_type": "markdown",
   "id": "dc8a983e-5dc9-4cb1-b6aa-e93a20ca67a8",
   "metadata": {},
   "source": [
    "Now that we understand distibutions, we can return to the model. To find the best fit of our model, we need to access the `posteriors`. These are the results of the fit. "
   ]
  },
  {
   "cell_type": "code",
   "execution_count": 17,
   "id": "100c6159-79ad-472b-b22d-4e84387c0360",
   "metadata": {},
   "outputs": [
    {
     "data": {
      "text/plain": [
       "DistributionContainer\n",
       "\t[(2.3828630058675317, 0.12247601809895359), (1.4276597702903404, 0.07071332978565806)]"
      ]
     },
     "execution_count": 17,
     "metadata": {},
     "output_type": "execute_result"
    }
   ],
   "source": [
    "model.posteriors"
   ]
  },
  {
   "cell_type": "markdown",
   "id": "6379d0f8-7237-4e6b-9032-222a500c70a3",
   "metadata": {},
   "source": [
    "These posteriors represent the mean and standard deviation of the best fit weights for our model. We can look at the means"
   ]
  },
  {
   "cell_type": "code",
   "execution_count": 18,
   "id": "15dcd6fa-7f06-4f8a-99d1-17cfbf3ee713",
   "metadata": {},
   "outputs": [
    {
     "data": {
      "text/plain": [
       "array([2.38286301, 1.42765977])"
      ]
     },
     "execution_count": 18,
     "metadata": {},
     "output_type": "execute_result"
    }
   ],
   "source": [
    "model.posteriors.mean"
   ]
  },
  {
   "cell_type": "markdown",
   "id": "ab842980-1711-49cd-b0f5-f9fe64dead14",
   "metadata": {},
   "source": [
    "These values match the input $m$ and $c$ very closely! These represent our best fitting weights. \n",
    "\n",
    "Let's improve our fit by including errors on the data."
   ]
  },
  {
   "cell_type": "code",
   "execution_count": 19,
   "id": "f2551827-bf62-4f1a-8b18-bcfa85867d61",
   "metadata": {},
   "outputs": [],
   "source": [
    "model.fit(x=x, data=y, errors=ye)"
   ]
  },
  {
   "cell_type": "markdown",
   "id": "454fef0b-406b-4cd4-9240-caab690e9508",
   "metadata": {},
   "source": [
    "Now we have fit again, let's look at the mean"
   ]
  },
  {
   "cell_type": "code",
   "execution_count": 20,
   "id": "a11c3d06-22f6-4a61-bfd6-871776c61e00",
   "metadata": {},
   "outputs": [
    {
     "data": {
      "text/plain": [
       "array([2.38286301, 1.42765977])"
      ]
     },
     "execution_count": 20,
     "metadata": {},
     "output_type": "execute_result"
    }
   ],
   "source": [
    "model.posteriors.mean"
   ]
  },
  {
   "cell_type": "markdown",
   "id": "3cb0bf81-e27b-419c-b680-0008f121eeaa",
   "metadata": {},
   "source": [
    "The posterior standard deviation now includes a more reasonable estimate of the error on these best fit parameters"
   ]
  },
  {
   "cell_type": "code",
   "execution_count": 21,
   "id": "acd25b3d-48b6-4d3b-846b-c2bc2f58fa42",
   "metadata": {},
   "outputs": [
    {
     "data": {
      "text/plain": [
       "array([0.03674281, 0.021214  ])"
      ]
     },
     "execution_count": 21,
     "metadata": {},
     "output_type": "execute_result"
    }
   ],
   "source": [
    "model.posteriors.std"
   ]
  },
  {
   "cell_type": "markdown",
   "id": "ab2a7014-cc7b-4d49-a386-94dcf5a5bdae",
   "metadata": {},
   "source": [
    "We can plot this new model fit over the data. Here we draw 100 samples of the model, which draws weights from the posterior distribution, rather than using the best fit mean."
   ]
  },
  {
   "cell_type": "code",
   "execution_count": 22,
   "id": "7ab78f54-627b-4d7a-968c-05bd7159ffaa",
   "metadata": {},
   "outputs": [
    {
     "data": {
      "image/png": "[encoded data removed]",
      "text/plain": [
       "<Figure size 640x480 with 1 Axes>"
      ]
     },
     "metadata": {},
     "output_type": "display_data"
    }
   ],
   "source": [
    "plt.errorbar(x, y, ye, ls='', c='k')\n",
    "plt.plot(x, np.asarray([model.sample(x=x) for count in range(100)]).T, c='r', alpha=0.1);"
   ]
  },
  {
   "cell_type": "markdown",
   "id": "c1299efe-5b11-423d-8e6f-7451c02e11db",
   "metadata": {},
   "source": [
    "Often we want to be able to save a model to share it with colleagues. `Model` objects are able to save and load models using `json` files."
   ]
  },
  {
   "cell_type": "code",
   "execution_count": 24,
   "id": "1b179373-c6b5-4a08-a06c-aaa379b45433",
   "metadata": {},
   "outputs": [],
   "source": [
    "model.save('output.json')"
   ]
  },
  {
   "cell_type": "markdown",
   "id": "f3074fd5-1ac6-4a9b-9cfd-f690989fec5d",
   "metadata": {},
   "source": [
    "This saves a juman readable model. Below we show the first 20 lines of this file"
   ]
  },
  {
   "cell_type": "code",
   "execution_count": 29,
   "id": "e9e07094-ba16-49d4-8e59-9add41b55fb3",
   "metadata": {},
   "outputs": [
    {
     "name": "stdout",
     "output_type": "stream",
     "text": [
      "{\n",
      "    \"object_type\": \"JointModel\",\n",
      "    \"initializing_kwargs\": {},\n",
      "    \"priors\": {\n",
      "        \"mean\": [\n",
      "            0,\n",
      "            0\n",
      "        ],\n",
      "        \"std\": [\n",
      "            Infinity,\n",
      "            Infinity\n",
      "        ]\n",
      "    },\n",
      "    \"posteriors\": {\n",
      "        \"mean\": [\n",
      "            2.382863005867531,\n",
      "            1.4276597702903426\n",
      "        ],\n",
      "        \"std\": [\n",
      "            0.03674280542968608,\n"
     ]
    }
   ],
   "source": [
    "!head -20 output.json"
   ]
  },
  {
   "cell_type": "markdown",
   "id": "6f5107f6-992f-4101-9ced-2f601c471a8b",
   "metadata": {},
   "source": [
    "The model json can then be loaded back in to lamatrix"
   ]
  },
  {
   "cell_type": "code",
   "execution_count": 30,
   "id": "db81b733-cf38-430b-8a42-8e094ef42858",
   "metadata": {},
   "outputs": [],
   "source": [
    "from lamatrix import load"
   ]
  },
  {
   "cell_type": "code",
   "execution_count": 31,
   "id": "627657e9-be6d-433d-b4c6-cd46e61a0889",
   "metadata": {},
   "outputs": [
    {
     "data": {
      "text/plain": [
       "JointModel\n",
       "\tPolynomial(x)[n, 1]\n",
       "\tConstant()[n, 1]"
      ]
     },
     "execution_count": 31,
     "metadata": {},
     "output_type": "execute_result"
    }
   ],
   "source": [
    "load('output.json')"
   ]
  },
  {
   "cell_type": "markdown",
   "id": "6a25c695-fb79-4833-9f39-cbb83917b07e",
   "metadata": {},
   "source": [
    "Finally you may want to include the results of your model as a latex table in your work. You can do this by using the `to_latex` method, which will also return the equation. "
   ]
  },
  {
   "cell_type": "code",
   "execution_count": 37,
   "id": "1beb24eb-ff19-4353-bea5-f2aa98ec5821",
   "metadata": {},
   "outputs": [
    {
     "name": "stdout",
     "output_type": "stream",
     "text": [
      "\\[f(\\mathbf{x}) = w_{0} \\mathbf{x}^{1} + w_{1} \\]\n",
      "\\begin{table}[h!]\n",
      "\\centering\n",
      "\\begin{tabular}{|c|c|c|}\n",
      "\\hline\n",
      "Coefficient & Posterior & Prior \\\\\\hline\n",
      "w & $2.38 \\pm 0.04$  & $0 \\pm \\infty$ \\\\\\hline\n",
      "w & $1.43 \\pm 0.02$  & $0 \\pm \\infty$ \\\\\\hline\n",
      "\\end{tabular}\n",
      "\\end{table}\n"
     ]
    }
   ],
   "source": [
    "print(model.to_latex())"
   ]
  },
  {
   "cell_type": "code",
   "execution_count": null,
   "id": "857ecca7-bd2f-41c9-8894-916d6e20cbdc",
   "metadata": {},
   "outputs": [],
   "source": []
  }
 ],
 "metadata": {
  "kernelspec": {
   "display_name": "Python 3 (ipykernel)",
   "language": "python",
   "name": "python3"
  },
  "language_info": {
   "codemirror_mode": {
    "name": "ipython",
    "version": 3
   },
   "file_extension": ".py",
   "mimetype": "text/x-python",
   "name": "python",
   "nbconvert_exporter": "python",
   "pygments_lexer": "ipython3",
   "version": "3.9.13"
  }
 },
 "nbformat": 4,
 "nbformat_minor": 5
}
