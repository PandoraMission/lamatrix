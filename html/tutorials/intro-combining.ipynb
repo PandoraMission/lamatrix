{
 "cells": [
  {
   "cell_type": "markdown",
   "id": "172c8c11-4ff4-4886-84ff-b35f26fbe6c5",
   "metadata": {},
   "source": [
    "# Introduction to `lamatrix`: Combining models"
   ]
  },
  {
   "attachments": {},
   "cell_type": "markdown",
   "id": "02ec79f8-c528-4ca9-8457-f894f259cf91",
   "metadata": {},
   "source": [
    "`lamatrix` enables you to combine `Model` objects to build more powerful models for your data. This tutorial will show how models can be combined."
   ]
  },
  {
   "cell_type": "code",
   "execution_count": 1,
   "id": "673055ba-0a48-4acc-896f-1ae15c508999",
   "metadata": {
    "execution": {
     "iopub.execute_input": "2025-01-31T21:50:11.750674Z",
     "iopub.status.busy": "2025-01-31T21:50:11.750448Z",
     "iopub.status.idle": "2025-01-31T21:50:12.267770Z",
     "shell.execute_reply": "2025-01-31T21:50:12.267030Z"
    }
   },
   "outputs": [],
   "source": [
    "import numpy as np\n",
    "from astropy.io import fits\n",
    "import matplotlib.pyplot as plt"
   ]
  },
  {
   "cell_type": "markdown",
   "id": "b5f03c5f-4c04-4875-b144-2b67db3630fb",
   "metadata": {},
   "source": [
    "First, we will make some fake data to fit. Here I'm creating data which is a combination of a simple polynomial, a sinusoid, and some noise terms."
   ]
  },
  {
   "cell_type": "code",
   "execution_count": 2,
   "id": "64df302f-0492-4dc6-9982-c6acebd504db",
   "metadata": {
    "execution": {
     "iopub.execute_input": "2025-01-31T21:50:12.270419Z",
     "iopub.status.busy": "2025-01-31T21:50:12.269931Z",
     "iopub.status.idle": "2025-01-31T21:50:12.274165Z",
     "shell.execute_reply": "2025-01-31T21:50:12.273639Z"
    }
   },
   "outputs": [],
   "source": [
    "x = np.arange(-5, 5, 0.01)\n",
    "y = x * 2.3459 + 1.435 + np.random.normal(0, 0.3, size=len(x))\n",
    "ye = np.ones(len(x)) * 0.3\n",
    "\n",
    "y += 10*np.sin(x) + 10*np.cos(x)"
   ]
  },
  {
   "cell_type": "markdown",
   "id": "596f06ad-bd43-4db5-9870-6eb857ddf3e8",
   "metadata": {},
   "source": [
    "If we plot the data we can see this is a simple trend"
   ]
  },
  {
   "cell_type": "code",
   "execution_count": 3,
   "id": "78067ca8-ee46-46c7-ba18-6234af52ed73",
   "metadata": {
    "execution": {
     "iopub.execute_input": "2025-01-31T21:50:12.276409Z",
     "iopub.status.busy": "2025-01-31T21:50:12.276008Z",
     "iopub.status.idle": "2025-01-31T21:50:12.448301Z",
     "shell.execute_reply": "2025-01-31T21:50:12.447677Z"
    }
   },
   "outputs": [
    {
     "data": {
      "text/plain": [
       "<ErrorbarContainer object of 3 artists>"
      ]
     },
     "execution_count": 3,
     "metadata": {},
     "output_type": "execute_result"
    },
    {
     "data": {
      "image/png": "[encoded data removed]",
      "text/plain": [
       "<Figure size 640x480 with 1 Axes>"
      ]
     },
     "metadata": {},
     "output_type": "display_data"
    }
   ],
   "source": [
    "plt.errorbar(x, y, ye, ls='', c='k')"
   ]
  },
  {
   "cell_type": "markdown",
   "id": "7edc0c9e-d294-474b-b36a-2edcfe10880b",
   "metadata": {},
   "source": [
    "Now we will use `lamatrix` to fit this data. "
   ]
  },
  {
   "cell_type": "code",
   "execution_count": 4,
   "id": "dcf6023e-f1a0-4bee-a08a-1ff5859f740f",
   "metadata": {
    "execution": {
     "iopub.execute_input": "2025-01-31T21:50:12.450889Z",
     "iopub.status.busy": "2025-01-31T21:50:12.450450Z",
     "iopub.status.idle": "2025-01-31T21:50:12.613597Z",
     "shell.execute_reply": "2025-01-31T21:50:12.612908Z"
    }
   },
   "outputs": [],
   "source": [
    "from lamatrix import Polynomial, Sinusoid, Constant"
   ]
  },
  {
   "cell_type": "markdown",
   "id": "5e6cece6-68a4-490e-b9b6-1e4c0183bd9c",
   "metadata": {},
   "source": [
    "In this case, we know our model is a linear combination of these trends, so we simply add them together. Note we know both the polynomial and sinusoid are functions of the same variable, which we name `\"x\"`."
   ]
  },
  {
   "cell_type": "code",
   "execution_count": 5,
   "id": "1d541233-8266-41b2-b6bc-8d896a1c1fee",
   "metadata": {
    "execution": {
     "iopub.execute_input": "2025-01-31T21:50:12.617041Z",
     "iopub.status.busy": "2025-01-31T21:50:12.616709Z",
     "iopub.status.idle": "2025-01-31T21:50:12.621978Z",
     "shell.execute_reply": "2025-01-31T21:50:12.621376Z"
    }
   },
   "outputs": [],
   "source": [
    "model = Polynomial('x', order=1) + Sinusoid('x') + Constant()"
   ]
  },
  {
   "cell_type": "markdown",
   "id": "92472487-dbe2-4ab0-806e-888b21e7d5f3",
   "metadata": {},
   "source": [
    "We've combined different models, but we are still able to use it in the same way as a simple model. For example, here's the equation for the model"
   ]
  },
  {
   "cell_type": "code",
   "execution_count": 6,
   "id": "3224e737-0494-4f74-ab5c-f1a6d2f3aee2",
   "metadata": {
    "execution": {
     "iopub.execute_input": "2025-01-31T21:50:12.625134Z",
     "iopub.status.busy": "2025-01-31T21:50:12.624694Z",
     "iopub.status.idle": "2025-01-31T21:50:12.630382Z",
     "shell.execute_reply": "2025-01-31T21:50:12.629608Z"
    }
   },
   "outputs": [
    {
     "data": {
      "text/html": [
       "<div>\\[f(\\mathbf{x}) = w_{0} \\mathbf{x}^{1} + w_{1} \\sin(\\mathbf{x}) + w_{2} \\cos(\\mathbf{x}) + w_{3} \\]</div>"
      ],
      "text/plain": [
       "'\\\\[f(\\\\mathbf{x}) = w_{0} \\\\mathbf{x}^{1} + w_{1} \\\\sin(\\\\mathbf{x}) + w_{2} \\\\cos(\\\\mathbf{x}) + w_{3} \\\\]'"
      ]
     },
     "execution_count": 6,
     "metadata": {},
     "output_type": "execute_result"
    }
   ],
   "source": [
    "model.equation"
   ]
  },
  {
   "cell_type": "markdown",
   "id": "5a41ecaa-0a7c-4d28-8b4e-9fc3ad5d46e9",
   "metadata": {},
   "source": [
    "Now we have the model, we can simply use the `fit` class method."
   ]
  },
  {
   "cell_type": "code",
   "execution_count": 7,
   "id": "a516122f-5c79-4993-89c9-9717434ad458",
   "metadata": {
    "execution": {
     "iopub.execute_input": "2025-01-31T21:50:12.632532Z",
     "iopub.status.busy": "2025-01-31T21:50:12.632296Z",
     "iopub.status.idle": "2025-01-31T21:50:12.637240Z",
     "shell.execute_reply": "2025-01-31T21:50:12.636619Z"
    }
   },
   "outputs": [],
   "source": [
    "model.fit(x=x, data=y, errors=ye)"
   ]
  },
  {
   "cell_type": "markdown",
   "id": "a876b329-758d-4702-95b6-ce2d94b2da69",
   "metadata": {},
   "source": [
    "The model fit with no errors, let's look at the posterior distributions."
   ]
  },
  {
   "cell_type": "code",
   "execution_count": 8,
   "id": "4c1850ba-4348-450c-8ffd-19d32ba8bf17",
   "metadata": {
    "execution": {
     "iopub.execute_input": "2025-01-31T21:50:12.639779Z",
     "iopub.status.busy": "2025-01-31T21:50:12.639537Z",
     "iopub.status.idle": "2025-01-31T21:50:12.646444Z",
     "shell.execute_reply": "2025-01-31T21:50:12.645813Z"
    }
   },
   "outputs": [
    {
     "data": {
      "text/plain": [
       "DistributionContainer\n",
       "\t[(2.3438, 0.0034), (9.974, 0.013), (10.027, 0.014), (1.4318, 0.0099)]"
      ]
     },
     "execution_count": 8,
     "metadata": {},
     "output_type": "execute_result"
    }
   ],
   "source": [
    "model.posteriors"
   ]
  },
  {
   "cell_type": "markdown",
   "id": "0d467697-e97e-4ea0-b1c8-3590bac5d37f",
   "metadata": {},
   "source": [
    "We can see we've fit the posteriors with small errors. Let's compare to our inputs. Our input polynomial was\n",
    "\n",
    "$2.3459x + 1.435$\n",
    "\n",
    "Because `model` is a linear combination of objects, we can split this model back into it's components:"
   ]
  },
  {
   "cell_type": "code",
   "execution_count": 9,
   "id": "1f4e4ffa-5746-43ac-9c69-4adf1435a5b2",
   "metadata": {
    "execution": {
     "iopub.execute_input": "2025-01-31T21:50:12.650076Z",
     "iopub.status.busy": "2025-01-31T21:50:12.649024Z",
     "iopub.status.idle": "2025-01-31T21:50:12.655491Z",
     "shell.execute_reply": "2025-01-31T21:50:12.654967Z"
    }
   },
   "outputs": [
    {
     "data": {
      "text/plain": [
       "JointModel\n",
       "\tPolynomial(x)[n, 1]\n",
       "\tSinusoid(x)[n, 2]\n",
       "\tConstant()[n, 1]"
      ]
     },
     "execution_count": 9,
     "metadata": {},
     "output_type": "execute_result"
    }
   ],
   "source": [
    "model"
   ]
  },
  {
   "cell_type": "code",
   "execution_count": 10,
   "id": "2b4c2f53-1193-4473-9ee9-3869ba17fc4c",
   "metadata": {
    "execution": {
     "iopub.execute_input": "2025-01-31T21:50:12.658521Z",
     "iopub.status.busy": "2025-01-31T21:50:12.658266Z",
     "iopub.status.idle": "2025-01-31T21:50:12.664681Z",
     "shell.execute_reply": "2025-01-31T21:50:12.664066Z"
    }
   },
   "outputs": [
    {
     "data": {
      "text/plain": [
       "Polynomial(x)[n, 1]"
      ]
     },
     "execution_count": 10,
     "metadata": {},
     "output_type": "execute_result"
    }
   ],
   "source": [
    "model[0]"
   ]
  },
  {
   "cell_type": "code",
   "execution_count": 11,
   "id": "cea8e1bc-0c46-47bb-8485-ad3c98c3ceaf",
   "metadata": {
    "execution": {
     "iopub.execute_input": "2025-01-31T21:50:12.667204Z",
     "iopub.status.busy": "2025-01-31T21:50:12.666972Z",
     "iopub.status.idle": "2025-01-31T21:50:12.673800Z",
     "shell.execute_reply": "2025-01-31T21:50:12.673141Z"
    }
   },
   "outputs": [
    {
     "data": {
      "text/plain": [
       "DistributionContainer\n",
       "\t[(2.3438, 0.0034)]"
      ]
     },
     "execution_count": 11,
     "metadata": {},
     "output_type": "execute_result"
    }
   ],
   "source": [
    "model[0].posteriors"
   ]
  },
  {
   "cell_type": "markdown",
   "id": "3c1de36b-5dfb-4930-811d-f99576e38558",
   "metadata": {},
   "source": [
    "We can see that the first order polynomial has posteriors after our fit. This is only a first order polynomial, and so it has only one weight. The weight is very close \n",
    "to our input weight of 2.3459!\n",
    "\n",
    "The polynomial we used was\n",
    "$10.sin(x) + 10.cos(x)$. Let's look at the posteriors."
   ]
  },
  {
   "cell_type": "code",
   "execution_count": 12,
   "id": "4bbae8f8-abf8-4da7-9104-4c198f705871",
   "metadata": {
    "execution": {
     "iopub.execute_input": "2025-01-31T21:50:12.677504Z",
     "iopub.status.busy": "2025-01-31T21:50:12.676444Z",
     "iopub.status.idle": "2025-01-31T21:50:12.682998Z",
     "shell.execute_reply": "2025-01-31T21:50:12.682443Z"
    }
   },
   "outputs": [
    {
     "data": {
      "text/plain": [
       "Sinusoid(x)[n, 2]"
      ]
     },
     "execution_count": 12,
     "metadata": {},
     "output_type": "execute_result"
    }
   ],
   "source": [
    "model[1]"
   ]
  },
  {
   "cell_type": "code",
   "execution_count": 13,
   "id": "c650830a-6a62-4122-aa33-7ec26e94abcb",
   "metadata": {
    "execution": {
     "iopub.execute_input": "2025-01-31T21:50:12.685508Z",
     "iopub.status.busy": "2025-01-31T21:50:12.685254Z",
     "iopub.status.idle": "2025-01-31T21:50:12.692061Z",
     "shell.execute_reply": "2025-01-31T21:50:12.691461Z"
    }
   },
   "outputs": [
    {
     "data": {
      "text/html": [
       "<div>\\[f(\\mathbf{x}) = w_{0} \\sin(\\mathbf{x}) + w_{1} \\cos(\\mathbf{x})\\]</div>"
      ],
      "text/plain": [
       "'\\\\[f(\\\\mathbf{x}) = w_{0} \\\\sin(\\\\mathbf{x}) + w_{1} \\\\cos(\\\\mathbf{x})\\\\]'"
      ]
     },
     "execution_count": 13,
     "metadata": {},
     "output_type": "execute_result"
    }
   ],
   "source": [
    "model[1].equation"
   ]
  },
  {
   "cell_type": "code",
   "execution_count": 14,
   "id": "c4de9c65-1c5d-4375-a185-22bc254541f9",
   "metadata": {
    "execution": {
     "iopub.execute_input": "2025-01-31T21:50:12.695660Z",
     "iopub.status.busy": "2025-01-31T21:50:12.694739Z",
     "iopub.status.idle": "2025-01-31T21:50:12.701287Z",
     "shell.execute_reply": "2025-01-31T21:50:12.700733Z"
    }
   },
   "outputs": [
    {
     "data": {
      "text/plain": [
       "DistributionContainer\n",
       "\t[(9.974, 0.013), (10.027, 0.014)]"
      ]
     },
     "execution_count": 14,
     "metadata": {},
     "output_type": "execute_result"
    }
   ],
   "source": [
    "model[1].posteriors"
   ]
  },
  {
   "cell_type": "markdown",
   "id": "b14b7a28-e505-47c9-8916-9f9e6763a79e",
   "metadata": {},
   "source": [
    "This has two weights, one for sine and one for cosine. The weights are very close to the input amplitudes!"
   ]
  },
  {
   "cell_type": "markdown",
   "id": "91cd1c42-6bc5-4527-9c5b-deca87cd2b45",
   "metadata": {},
   "source": [
    "Finally we have the constant term"
   ]
  },
  {
   "cell_type": "code",
   "execution_count": 15,
   "id": "60da0310-e733-4afa-aeb7-064a2595c290",
   "metadata": {
    "execution": {
     "iopub.execute_input": "2025-01-31T21:50:12.703932Z",
     "iopub.status.busy": "2025-01-31T21:50:12.703699Z",
     "iopub.status.idle": "2025-01-31T21:50:12.710243Z",
     "shell.execute_reply": "2025-01-31T21:50:12.709726Z"
    }
   },
   "outputs": [
    {
     "data": {
      "text/plain": [
       "Constant()[n, 1]"
      ]
     },
     "execution_count": 15,
     "metadata": {},
     "output_type": "execute_result"
    }
   ],
   "source": [
    "model[2]"
   ]
  },
  {
   "cell_type": "code",
   "execution_count": 16,
   "id": "827d3c0c-205a-47ac-8a6f-814c31c21a17",
   "metadata": {
    "execution": {
     "iopub.execute_input": "2025-01-31T21:50:12.712854Z",
     "iopub.status.busy": "2025-01-31T21:50:12.712617Z",
     "iopub.status.idle": "2025-01-31T21:50:12.719372Z",
     "shell.execute_reply": "2025-01-31T21:50:12.718787Z"
    }
   },
   "outputs": [
    {
     "data": {
      "text/plain": [
       "DistributionContainer\n",
       "\t[(1.4318, 0.0099)]"
      ]
     },
     "execution_count": 16,
     "metadata": {},
     "output_type": "execute_result"
    }
   ],
   "source": [
    "model[2].posteriors"
   ]
  },
  {
   "cell_type": "markdown",
   "id": "20693e1b-0526-4ede-bba8-5066a0054c41",
   "metadata": {},
   "source": [
    "This is very close to our input offset term. Let's plot the model to see how this looks"
   ]
  },
  {
   "cell_type": "code",
   "execution_count": 17,
   "id": "38b676d2-ea67-4eda-a6db-52f5628c989c",
   "metadata": {
    "execution": {
     "iopub.execute_input": "2025-01-31T21:50:12.722249Z",
     "iopub.status.busy": "2025-01-31T21:50:12.722007Z",
     "iopub.status.idle": "2025-01-31T21:50:12.985824Z",
     "shell.execute_reply": "2025-01-31T21:50:12.985141Z"
    }
   },
   "outputs": [
    {
     "data": {
      "image/png": "[encoded data removed]",
      "text/plain": [
       "<Figure size 640x480 with 1 Axes>"
      ]
     },
     "metadata": {},
     "output_type": "display_data"
    }
   ],
   "source": [
    "plt.errorbar(x, y, ye, ls='', c='k')\n",
    "plt.plot(x, np.asarray([model.sample(x=x) for count in range(100)]).T, c='r', alpha=0.1);"
   ]
  },
  {
   "cell_type": "markdown",
   "id": "b554f897-26b6-4c2b-92d6-78a96a3ff1fe",
   "metadata": {},
   "source": [
    "This is a great fit to the data!"
   ]
  }
 ],
 "metadata": {
  "kernelspec": {
   "display_name": "Python 3 (ipykernel)",
   "language": "python",
   "name": "python3"
  },
  "language_info": {
   "codemirror_mode": {
    "name": "ipython",
    "version": 3
   },
   "file_extension": ".py",
   "mimetype": "text/x-python",
   "name": "python",
   "nbconvert_exporter": "python",
   "pygments_lexer": "ipython3",
   "version": "3.9.21"
  }
 },
 "nbformat": 4,
 "nbformat_minor": 5
}
