{
 "cells": [
  {
   "cell_type": "markdown",
   "id": "3bd88ee9-8761-4053-8f94-4fd99b0576df",
   "metadata": {},
   "source": [
    "## 2D Gaussian"
   ]
  },
  {
   "cell_type": "code",
   "execution_count": 1,
   "id": "4e2210ea-ad2e-4a9b-a25b-dd4cfc318ea3",
   "metadata": {
    "execution": {
     "iopub.execute_input": "2025-01-31T21:56:17.537390Z",
     "iopub.status.busy": "2025-01-31T21:56:17.537185Z",
     "iopub.status.idle": "2025-01-31T21:56:18.121238Z",
     "shell.execute_reply": "2025-01-31T21:56:18.117907Z"
    }
   },
   "outputs": [],
   "source": [
    "import numpy as np\n",
    "import matplotlib.pyplot as plt\n",
    "X, Y = np.mgrid[-10:10:100j,-9:9:99j]\n",
    "\n",
    "from lamatrix import Gaussian2D"
   ]
  },
  {
   "cell_type": "code",
   "execution_count": 2,
   "id": "174d3da9-b9ad-4e6b-8485-dbee07d18071",
   "metadata": {
    "execution": {
     "iopub.execute_input": "2025-01-31T21:56:18.133829Z",
     "iopub.status.busy": "2025-01-31T21:56:18.132605Z",
     "iopub.status.idle": "2025-01-31T21:56:18.142348Z",
     "shell.execute_reply": "2025-01-31T21:56:18.141794Z"
    }
   },
   "outputs": [
    {
     "data": {
      "text/html": [
       "<div>\\[f(\\mathbf{x}, \\mathbf{y}) = w_{0} \\frac{1}{2\\pi\\sigma_x\\sigma_y\\sqrt{1 - \\rho^2}} e^{- \\frac{1}{2(1-\\rho^2)} \\left[\\frac{(\\mathbf{x} - \\mu_x)^2}{2\\sigma_x^2} + \\frac{(\\mathbf{y} - \\mu_y)^2}{2\\sigma_y^2} - \\frac{2\\rho(\\mathbf{x} - \\mu_x)(\\mathbf{y} - \\mu_y)}{\\sigma_x\\sigma_y}\\right]}\\]</div>"
      ],
      "text/plain": [
       "'\\\\[f(\\\\mathbf{x}, \\\\mathbf{y}) = w_{0} \\\\frac{1}{2\\\\pi\\\\sigma_x\\\\sigma_y\\\\sqrt{1 - \\\\rho^2}} e^{- \\\\frac{1}{2(1-\\\\rho^2)} \\\\left[\\\\frac{(\\\\mathbf{x} - \\\\mu_x)^2}{2\\\\sigma_x^2} + \\\\frac{(\\\\mathbf{y} - \\\\mu_y)^2}{2\\\\sigma_y^2} - \\\\frac{2\\\\rho(\\\\mathbf{x} - \\\\mu_x)(\\\\mathbf{y} - \\\\mu_y)}{\\\\sigma_x\\\\sigma_y}\\\\right]}\\\\]'"
      ]
     },
     "execution_count": 2,
     "metadata": {},
     "output_type": "execute_result"
    }
   ],
   "source": [
    "Gaussian2D().equation"
   ]
  },
  {
   "cell_type": "code",
   "execution_count": 3,
   "id": "b73a16d1-6b07-4857-aaca-086d4362ff59",
   "metadata": {
    "execution": {
     "iopub.execute_input": "2025-01-31T21:56:18.144794Z",
     "iopub.status.busy": "2025-01-31T21:56:18.144582Z",
     "iopub.status.idle": "2025-01-31T21:56:18.150661Z",
     "shell.execute_reply": "2025-01-31T21:56:18.150063Z"
    }
   },
   "outputs": [],
   "source": [
    "model = Gaussian2D('x', 'y', sigma_x=2, sigma_y=2, mu_x=0, mu_y=0, rho=0.8)\n",
    "w = np.random.uniform(0, 1, size=model.width)\n",
    "sample = model.design_matrix(x=X, y=Y).dot(w)"
   ]
  },
  {
   "cell_type": "code",
   "execution_count": 4,
   "id": "bc27be3e-b238-4c8c-8ec5-3f0a22114e15",
   "metadata": {
    "execution": {
     "iopub.execute_input": "2025-01-31T21:56:18.154110Z",
     "iopub.status.busy": "2025-01-31T21:56:18.153230Z",
     "iopub.status.idle": "2025-01-31T21:56:18.498587Z",
     "shell.execute_reply": "2025-01-31T21:56:18.497872Z"
    }
   },
   "outputs": [
    {
     "data": {
      "image/png": "[encoded data removed]",
      "text/plain": [
       "<Figure size 640x480 with 1 Axes>"
      ]
     },
     "metadata": {},
     "output_type": "display_data"
    }
   ],
   "source": [
    "fig, ax = plt.subplots()\n",
    "ax.imshow(sample, cmap='Greys')\n",
    "ax.set(xlabel='$x$', ylabel='$y$', title='Gaussian2D model sample');"
   ]
  },
  {
   "cell_type": "code",
   "execution_count": null,
   "id": "4ad0f30f-cc69-498c-be88-69c00dd869c1",
   "metadata": {},
   "outputs": [],
   "source": []
  }
 ],
 "metadata": {
  "kernelspec": {
   "display_name": "Python 3 (ipykernel)",
   "language": "python",
   "name": "python3"
  },
  "language_info": {
   "codemirror_mode": {
    "name": "ipython",
    "version": 3
   },
   "file_extension": ".py",
   "mimetype": "text/x-python",
   "name": "python",
   "nbconvert_exporter": "python",
   "pygments_lexer": "ipython3",
   "version": "3.9.21"
  }
 },
 "nbformat": 4,
 "nbformat_minor": 5
}
