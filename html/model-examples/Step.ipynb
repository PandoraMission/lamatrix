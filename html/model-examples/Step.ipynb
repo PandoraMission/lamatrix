{
 "cells": [
  {
   "cell_type": "markdown",
   "id": "0f18ddb6-6f8f-44b1-9083-c86b9ae657ac",
   "metadata": {},
   "source": [
    "# Step"
   ]
  },
  {
   "cell_type": "markdown",
   "id": "fb0ada15-3643-4b61-b962-af80bd318097",
   "metadata": {},
   "source": [
    "`lamatrix` provides a Step model to capture step functions and breaks in data."
   ]
  },
  {
   "cell_type": "code",
   "execution_count": 1,
   "id": "ae5d5c89-f880-4c50-9a53-bc4171ec3086",
   "metadata": {
    "execution": {
     "iopub.execute_input": "2025-01-31T21:56:26.526092Z",
     "iopub.status.busy": "2025-01-31T21:56:26.525903Z",
     "iopub.status.idle": "2025-01-31T21:56:27.043564Z",
     "shell.execute_reply": "2025-01-31T21:56:27.042904Z"
    }
   },
   "outputs": [],
   "source": [
    "import numpy as np\n",
    "import matplotlib.pyplot as plt\n",
    "x = np.arange(-10, 10, 0.01)\n",
    "\n",
    "\n",
    "from lamatrix import Step"
   ]
  },
  {
   "cell_type": "code",
   "execution_count": 2,
   "id": "3241dc64-c209-4971-8a2c-f036d0324b47",
   "metadata": {
    "execution": {
     "iopub.execute_input": "2025-01-31T21:56:27.047078Z",
     "iopub.status.busy": "2025-01-31T21:56:27.046725Z",
     "iopub.status.idle": "2025-01-31T21:56:27.056505Z",
     "shell.execute_reply": "2025-01-31T21:56:27.055908Z"
    }
   },
   "outputs": [
    {
     "data": {
      "text/html": [
       "<div>\\[f(\\mathbf{x}) = w_{0} \\mathbb{I}_{[{-\\infty}, {0}]}(\\mathbf{x}) + w_{1} \\mathbb{I}_{[{0}, {\\infty}]}(\\mathbf{x})\\]</div>"
      ],
      "text/plain": [
       "'\\\\[f(\\\\mathbf{x}) = w_{0} \\\\mathbb{I}_{[{-\\\\infty}, {0}]}(\\\\mathbf{x}) + w_{1} \\\\mathbb{I}_{[{0}, {\\\\infty}]}(\\\\mathbf{x})\\\\]'"
      ]
     },
     "execution_count": 2,
     "metadata": {},
     "output_type": "execute_result"
    }
   ],
   "source": [
    "Step().equation"
   ]
  },
  {
   "cell_type": "code",
   "execution_count": 3,
   "id": "d100b342-9f43-4277-aad2-aa1eb431a776",
   "metadata": {
    "execution": {
     "iopub.execute_input": "2025-01-31T21:56:27.060229Z",
     "iopub.status.busy": "2025-01-31T21:56:27.059296Z",
     "iopub.status.idle": "2025-01-31T21:56:27.064545Z",
     "shell.execute_reply": "2025-01-31T21:56:27.063937Z"
    }
   },
   "outputs": [],
   "source": [
    "model = Step('x', breakpoints=[0])\n",
    "w = np.random.normal(size=model.width)\n",
    "sample = model.design_matrix(x=x).dot(w)"
   ]
  },
  {
   "cell_type": "code",
   "execution_count": 4,
   "id": "e32159da-2a24-43cc-9550-d53afcf403e3",
   "metadata": {
    "execution": {
     "iopub.execute_input": "2025-01-31T21:56:27.067412Z",
     "iopub.status.busy": "2025-01-31T21:56:27.067175Z",
     "iopub.status.idle": "2025-01-31T21:56:27.268362Z",
     "shell.execute_reply": "2025-01-31T21:56:27.267619Z"
    }
   },
   "outputs": [
    {
     "data": {
      "image/png": "[encoded data removed]",
      "text/plain": [
       "<Figure size 640x480 with 1 Axes>"
      ]
     },
     "metadata": {},
     "output_type": "display_data"
    }
   ],
   "source": [
    "fig, ax = plt.subplots()\n",
    "ax.plot(x, sample, c='k')\n",
    "ax.set(xlabel='$x$', ylabel='$y$', title='Step model sample');"
   ]
  },
  {
   "cell_type": "code",
   "execution_count": null,
   "id": "27d100d8-69fb-4290-a050-ded610a3aa8a",
   "metadata": {},
   "outputs": [],
   "source": []
  }
 ],
 "metadata": {
  "kernelspec": {
   "display_name": "Python 3 (ipykernel)",
   "language": "python",
   "name": "python3"
  },
  "language_info": {
   "codemirror_mode": {
    "name": "ipython",
    "version": 3
   },
   "file_extension": ".py",
   "mimetype": "text/x-python",
   "name": "python",
   "nbconvert_exporter": "python",
   "pygments_lexer": "ipython3",
   "version": "3.9.21"
  }
 },
 "nbformat": 4,
 "nbformat_minor": 5
}
