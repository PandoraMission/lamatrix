{
 "cells": [
  {
   "cell_type": "markdown",
   "id": "0f18ddb6-6f8f-44b1-9083-c86b9ae657ac",
   "metadata": {},
   "source": [
    "# Constant"
   ]
  },
  {
   "cell_type": "markdown",
   "id": "fb0ada15-3643-4b61-b962-af80bd318097",
   "metadata": {},
   "source": [
    "`lamatrix` provides a Constant model to enable offsets to be modeled. This is the simplest model within the package."
   ]
  },
  {
   "cell_type": "code",
   "execution_count": 1,
   "id": "ae5d5c89-f880-4c50-9a53-bc4171ec3086",
   "metadata": {
    "execution": {
     "iopub.execute_input": "2025-01-31T21:49:11.397230Z",
     "iopub.status.busy": "2025-01-31T21:49:11.396976Z",
     "iopub.status.idle": "2025-01-31T21:49:11.898652Z",
     "shell.execute_reply": "2025-01-31T21:49:11.897993Z"
    }
   },
   "outputs": [],
   "source": [
    "import numpy as np\n",
    "import matplotlib.pyplot as plt\n",
    "x = np.arange(-10, 10, 0.01)\n",
    "\n",
    "\n",
    "from lamatrix import Constant"
   ]
  },
  {
   "cell_type": "code",
   "execution_count": 2,
   "id": "3241dc64-c209-4971-8a2c-f036d0324b47",
   "metadata": {
    "execution": {
     "iopub.execute_input": "2025-01-31T21:49:11.901986Z",
     "iopub.status.busy": "2025-01-31T21:49:11.901668Z",
     "iopub.status.idle": "2025-01-31T21:49:11.911645Z",
     "shell.execute_reply": "2025-01-31T21:49:11.911036Z"
    }
   },
   "outputs": [
    {
     "data": {
      "text/html": [
       "<div>\\[f() = w_{0} \\]</div>"
      ],
      "text/plain": [
       "'\\\\[f() = w_{0} \\\\]'"
      ]
     },
     "execution_count": 2,
     "metadata": {},
     "output_type": "execute_result"
    }
   ],
   "source": [
    "Constant().equation"
   ]
  },
  {
   "cell_type": "code",
   "execution_count": null,
   "id": "d100b342-9f43-4277-aad2-aa1eb431a776",
   "metadata": {},
   "outputs": [],
   "source": []
  }
 ],
 "metadata": {
  "kernelspec": {
   "display_name": "Python 3 (ipykernel)",
   "language": "python",
   "name": "python3"
  },
  "language_info": {
   "codemirror_mode": {
    "name": "ipython",
    "version": 3
   },
   "file_extension": ".py",
   "mimetype": "text/x-python",
   "name": "python",
   "nbconvert_exporter": "python",
   "pygments_lexer": "ipython3",
   "version": "3.9.21"
  }
 },
 "nbformat": 4,
 "nbformat_minor": 5
}
